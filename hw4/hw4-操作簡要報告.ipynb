{
 "cells": [
  {
   "cell_type": "markdown",
   "metadata": {},
   "source": [
    "## 操作報告\n",
    "\n",
    "> DataSet using: duke_gpa.csv  \n",
    "\n",
    "First I load my data using pandas."
   ]
  },
  {
   "cell_type": "code",
   "execution_count": 194,
   "metadata": {},
   "outputs": [
    {
     "name": "stdout",
     "output_type": "stream",
     "text": [
      "      gpa  studyweek  sleepnight  out  gender\n",
      "0   3.890         50         6.0  3.0  female\n",
      "1   3.900         15         6.0  1.0  female\n",
      "2   3.750         15         7.0  1.0  female\n",
      "3   3.600         10         6.0  4.0    male\n",
      "4   4.000         25         7.0  3.0  female\n",
      "5   3.150         20         7.0  3.0    male\n",
      "6   3.250         15         6.0  1.0  female\n",
      "7   3.925         10         8.0  3.0  female\n",
      "8   3.428         12         8.0  2.0  female\n",
      "9   3.800          2         8.0  4.0    male\n",
      "10  3.900         10         8.0  1.0  female\n",
      "11  2.900         30         6.0  2.0  female\n",
      "12  3.925         30         7.0  2.0  female\n",
      "13  3.650         21         9.0  3.0  female\n",
      "14  3.750         10         8.5  3.5  female\n",
      "15  4.670         14         6.5  3.0    male\n",
      "16  3.100         12         7.5  3.5    male\n",
      "17  3.800         12         8.0  1.0  female\n",
      "18  3.400          4         9.0  3.0  female\n",
      "19  3.575         45         6.5  1.5  female\n",
      "20  3.850          6         7.0  2.5  female\n",
      "21  3.400         10         7.0  3.0  female\n",
      "22  3.500         12         8.0  2.0    male\n",
      "23  3.600         13         6.0  3.5  female\n",
      "24  3.825         35         8.0  4.0  female\n",
      "25  3.925         10         8.0  3.0  female\n",
      "26  4.000         40         8.0  3.0  female\n",
      "27  3.425         14         9.0  3.0  female\n",
      "28  3.750         30         6.0  0.0  female\n",
      "29  3.150          8         6.0  0.0  female\n",
      "30  3.400          8         6.5  2.0  female\n",
      "31  3.700         20         7.0  1.0  female\n",
      "32  3.360         40         7.0  1.0  female\n",
      "33  3.700         15         7.0  1.5    male\n",
      "34  3.700         25         5.0  1.0  female\n",
      "35  3.600         10         7.0  2.0  female\n",
      "36  3.825         18         7.0  1.5  female\n",
      "37  3.200         15         6.0  1.0  female\n",
      "38  3.500         30         8.0  3.0    male\n",
      "39  3.500         11         7.0  1.5  female\n",
      "40  3.000         28         6.0  1.5  female\n",
      "41  3.980          4         7.0  1.5  female\n",
      "42  3.700          4         5.0  1.0    male\n",
      "43  3.810         25         7.5  2.5  female\n",
      "44  4.000         42         5.0  1.0  female\n",
      "45  3.100          3         7.0  2.0    male\n",
      "46  3.400         42         9.0  2.0    male\n",
      "47  3.500         25         8.0  2.0    male\n",
      "48  3.650         20         6.0  2.0  female\n",
      "49  3.700          7         8.0  2.0  female\n",
      "50  3.100          6         8.0  1.0  female\n",
      "51  4.000         20         7.0  3.0  female\n",
      "52  3.350         45         6.0  2.0  female\n",
      "53  3.541         30         7.5  1.5  female\n",
      "54  2.900         20         6.0  3.0  female\n"
     ]
    }
   ],
   "source": [
    "import pandas as pd\n",
    "import numpy as np\n",
    "from sklearn.preprocessing import StandardScaler, OneHotEncoder\n",
    "from sklearn.compose import ColumnTransformer\n",
    "from sklearn.feature_selection import SelectKBest, f_classif\n",
    "from sklearn.linear_model import LogisticRegression\n",
    "\n",
    "# Load your data\n",
    "df = pd.read_csv('duke_gpa.csv')\n",
    "print(df)"
   ]
  },
  {
   "cell_type": "markdown",
   "metadata": {},
   "source": [
    "We can observe that there is a gender column which is nominal data. We convert it into binary data, 1 stands for male and 0 for female."
   ]
  },
  {
   "cell_type": "code",
   "execution_count": 195,
   "metadata": {},
   "outputs": [
    {
     "name": "stdout",
     "output_type": "stream",
     "text": [
      "      gpa  studyweek  sleepnight  out  gender\n",
      "0   3.890         50         6.0  3.0       0\n",
      "1   3.900         15         6.0  1.0       0\n",
      "2   3.750         15         7.0  1.0       0\n",
      "3   3.600         10         6.0  4.0       1\n",
      "4   4.000         25         7.0  3.0       0\n",
      "5   3.150         20         7.0  3.0       1\n",
      "6   3.250         15         6.0  1.0       0\n",
      "7   3.925         10         8.0  3.0       0\n",
      "8   3.428         12         8.0  2.0       0\n",
      "9   3.800          2         8.0  4.0       1\n",
      "10  3.900         10         8.0  1.0       0\n",
      "11  2.900         30         6.0  2.0       0\n",
      "12  3.925         30         7.0  2.0       0\n",
      "13  3.650         21         9.0  3.0       0\n",
      "14  3.750         10         8.5  3.5       0\n",
      "15  4.670         14         6.5  3.0       1\n",
      "16  3.100         12         7.5  3.5       1\n",
      "17  3.800         12         8.0  1.0       0\n",
      "18  3.400          4         9.0  3.0       0\n",
      "19  3.575         45         6.5  1.5       0\n",
      "20  3.850          6         7.0  2.5       0\n",
      "21  3.400         10         7.0  3.0       0\n",
      "22  3.500         12         8.0  2.0       1\n",
      "23  3.600         13         6.0  3.5       0\n",
      "24  3.825         35         8.0  4.0       0\n",
      "25  3.925         10         8.0  3.0       0\n",
      "26  4.000         40         8.0  3.0       0\n",
      "27  3.425         14         9.0  3.0       0\n",
      "28  3.750         30         6.0  0.0       0\n",
      "29  3.150          8         6.0  0.0       0\n",
      "30  3.400          8         6.5  2.0       0\n",
      "31  3.700         20         7.0  1.0       0\n",
      "32  3.360         40         7.0  1.0       0\n",
      "33  3.700         15         7.0  1.5       1\n",
      "34  3.700         25         5.0  1.0       0\n",
      "35  3.600         10         7.0  2.0       0\n",
      "36  3.825         18         7.0  1.5       0\n",
      "37  3.200         15         6.0  1.0       0\n",
      "38  3.500         30         8.0  3.0       1\n",
      "39  3.500         11         7.0  1.5       0\n",
      "40  3.000         28         6.0  1.5       0\n",
      "41  3.980          4         7.0  1.5       0\n",
      "42  3.700          4         5.0  1.0       1\n",
      "43  3.810         25         7.5  2.5       0\n",
      "44  4.000         42         5.0  1.0       0\n",
      "45  3.100          3         7.0  2.0       1\n",
      "46  3.400         42         9.0  2.0       1\n",
      "47  3.500         25         8.0  2.0       1\n",
      "48  3.650         20         6.0  2.0       0\n",
      "49  3.700          7         8.0  2.0       0\n",
      "50  3.100          6         8.0  1.0       0\n",
      "51  4.000         20         7.0  3.0       0\n",
      "52  3.350         45         6.0  2.0       0\n",
      "53  3.541         30         7.5  1.5       0\n",
      "54  2.900         20         6.0  3.0       0\n"
     ]
    }
   ],
   "source": [
    "# Load the data\n",
    "df = pd.read_csv('duke_gpa.csv')\n",
    "\n",
    "df['gender'] = df['gender'].map({'male': 1, 'female': 0})\n",
    "\n",
    "print(df)"
   ]
  },
  {
   "cell_type": "markdown",
   "metadata": {},
   "source": [
    "Next, I want to know what other features are related to gpa, so I will do feature selection using SelectKBest method.   \n",
    "\n",
    "I noticed that different features have different scales, like gpa may be using 4.0 scaling. Studyweek should be hours but is the accumalate study hours of a week. Sleep night should be the hours a student sleep at night...  \n",
    "\n",
    "They are all on different scales, so I would be doing Standarizing first. The method I'm using is MinMaxScaler."
   ]
  },
  {
   "cell_type": "code",
   "execution_count": 196,
   "metadata": {},
   "outputs": [
    {
     "name": "stdout",
     "output_type": "stream",
     "text": [
      "         gpa  studyweek  sleepnight    out  gender\n",
      "0   0.559322   1.000000       0.250  0.750       0\n",
      "1   0.564972   0.270833       0.250  0.250       0\n",
      "2   0.480226   0.270833       0.500  0.250       0\n",
      "3   0.395480   0.166667       0.250  1.000       1\n",
      "4   0.621469   0.479167       0.500  0.750       0\n",
      "5   0.141243   0.375000       0.500  0.750       1\n",
      "6   0.197740   0.270833       0.250  0.250       0\n",
      "7   0.579096   0.166667       0.750  0.750       0\n",
      "8   0.298305   0.208333       0.750  0.500       0\n",
      "9   0.508475   0.000000       0.750  1.000       1\n",
      "10  0.564972   0.166667       0.750  0.250       0\n",
      "11  0.000000   0.583333       0.250  0.500       0\n",
      "12  0.579096   0.583333       0.500  0.500       0\n",
      "13  0.423729   0.395833       1.000  0.750       0\n",
      "14  0.480226   0.166667       0.875  0.875       0\n",
      "15  1.000000   0.250000       0.375  0.750       1\n",
      "16  0.112994   0.208333       0.625  0.875       1\n",
      "17  0.508475   0.208333       0.750  0.250       0\n",
      "18  0.282486   0.041667       1.000  0.750       0\n",
      "19  0.381356   0.895833       0.375  0.375       0\n",
      "20  0.536723   0.083333       0.500  0.625       0\n",
      "21  0.282486   0.166667       0.500  0.750       0\n",
      "22  0.338983   0.208333       0.750  0.500       1\n",
      "23  0.395480   0.229167       0.250  0.875       0\n",
      "24  0.522599   0.687500       0.750  1.000       0\n",
      "25  0.579096   0.166667       0.750  0.750       0\n",
      "26  0.621469   0.791667       0.750  0.750       0\n",
      "27  0.296610   0.250000       1.000  0.750       0\n",
      "28  0.480226   0.583333       0.250  0.000       0\n",
      "29  0.141243   0.125000       0.250  0.000       0\n",
      "30  0.282486   0.125000       0.375  0.500       0\n",
      "31  0.451977   0.375000       0.500  0.250       0\n",
      "32  0.259887   0.791667       0.500  0.250       0\n",
      "33  0.451977   0.270833       0.500  0.375       1\n",
      "34  0.451977   0.479167       0.000  0.250       0\n",
      "35  0.395480   0.166667       0.500  0.500       0\n",
      "36  0.522599   0.333333       0.500  0.375       0\n",
      "37  0.169492   0.270833       0.250  0.250       0\n",
      "38  0.338983   0.583333       0.750  0.750       1\n",
      "39  0.338983   0.187500       0.500  0.375       0\n",
      "40  0.056497   0.541667       0.250  0.375       0\n",
      "41  0.610169   0.041667       0.500  0.375       0\n",
      "42  0.451977   0.041667       0.000  0.250       1\n",
      "43  0.514124   0.479167       0.625  0.625       0\n",
      "44  0.621469   0.833333       0.000  0.250       0\n",
      "45  0.112994   0.020833       0.500  0.500       1\n",
      "46  0.282486   0.833333       1.000  0.500       1\n",
      "47  0.338983   0.479167       0.750  0.500       1\n",
      "48  0.423729   0.375000       0.250  0.500       0\n",
      "49  0.451977   0.104167       0.750  0.500       0\n",
      "50  0.112994   0.083333       0.750  0.250       0\n",
      "51  0.621469   0.375000       0.500  0.750       0\n",
      "52  0.254237   0.895833       0.250  0.500       0\n",
      "53  0.362147   0.583333       0.625  0.375       0\n",
      "54  0.000000   0.375000       0.250  0.750       0\n"
     ]
    }
   ],
   "source": [
    "from sklearn.preprocessing import MinMaxScaler\n",
    "\n",
    "# Initialize the scaler\n",
    "scaler = MinMaxScaler()\n",
    "\n",
    "# Fit the scaler to the data and transform the data\n",
    "df[['gpa', 'studyweek', 'sleepnight', 'out']] = scaler.fit_transform(df[['gpa', 'studyweek', 'sleepnight', 'out']])\n",
    "\n",
    "print(df)"
   ]
  },
  {
   "cell_type": "markdown",
   "metadata": {},
   "source": [
    "Now we can do Feature Selection to the dataset. The scoring function I'm  using is f_regression(suitable for continous target varriables and the predictors are binary or continuous)"
   ]
  },
  {
   "cell_type": "code",
   "execution_count": 197,
   "metadata": {},
   "outputs": [
    {
     "name": "stdout",
     "output_type": "stream",
     "text": [
      "Top 3 features: \n",
      "1. out (0.995810)\n",
      "2. gender (0.215639)\n",
      "3. sleepnight (0.197839)\n"
     ]
    }
   ],
   "source": [
    "from sklearn.feature_selection import SelectKBest\n",
    "from sklearn.feature_selection import f_regression\n",
    "\n",
    "# Separate input features and target\n",
    "X = df.drop('gpa', axis=1)\n",
    "y = df['gpa'] # Target variable\n",
    "\n",
    "# feature selection\n",
    "selector = SelectKBest(score_func=f_regression, k=3)\n",
    "fit = selector.fit(X, y)\n",
    "\n",
    "# feature ranking\n",
    "print('Top 3 features: ')\n",
    "for i in range(3):\n",
    "    print(\"%d. %s (%f)\" % (i + 1, X.columns[indices[i]], fit.scores_[indices[i]]))"
   ]
  },
  {
   "cell_type": "markdown",
   "metadata": {},
   "source": [
    "From the above result we can observe that 'out' (nights going out per week) feature got a high score. Which may represent this feature has a strong relationship with gpa (target).   \n",
    "\n",
    "Next I will split the dataset for testing/training using train_test_split. For observing whether doing feature selection makes a difference, I'll do the training for only 'out' feature and all the features except 'gpa' respectively."
   ]
  },
  {
   "cell_type": "code",
   "execution_count": 198,
   "metadata": {},
   "outputs": [
    {
     "name": "stdout",
     "output_type": "stream",
     "text": [
      "Training set size: 38\n",
      "Test set size: 17\n"
     ]
    },
    {
     "data": {
      "text/html": [
       "<style>#sk-container-id-37 {color: black;}#sk-container-id-37 pre{padding: 0;}#sk-container-id-37 div.sk-toggleable {background-color: white;}#sk-container-id-37 label.sk-toggleable__label {cursor: pointer;display: block;width: 100%;margin-bottom: 0;padding: 0.3em;box-sizing: border-box;text-align: center;}#sk-container-id-37 label.sk-toggleable__label-arrow:before {content: \"▸\";float: left;margin-right: 0.25em;color: #696969;}#sk-container-id-37 label.sk-toggleable__label-arrow:hover:before {color: black;}#sk-container-id-37 div.sk-estimator:hover label.sk-toggleable__label-arrow:before {color: black;}#sk-container-id-37 div.sk-toggleable__content {max-height: 0;max-width: 0;overflow: hidden;text-align: left;background-color: #f0f8ff;}#sk-container-id-37 div.sk-toggleable__content pre {margin: 0.2em;color: black;border-radius: 0.25em;background-color: #f0f8ff;}#sk-container-id-37 input.sk-toggleable__control:checked~div.sk-toggleable__content {max-height: 200px;max-width: 100%;overflow: auto;}#sk-container-id-37 input.sk-toggleable__control:checked~label.sk-toggleable__label-arrow:before {content: \"▾\";}#sk-container-id-37 div.sk-estimator input.sk-toggleable__control:checked~label.sk-toggleable__label {background-color: #d4ebff;}#sk-container-id-37 div.sk-label input.sk-toggleable__control:checked~label.sk-toggleable__label {background-color: #d4ebff;}#sk-container-id-37 input.sk-hidden--visually {border: 0;clip: rect(1px 1px 1px 1px);clip: rect(1px, 1px, 1px, 1px);height: 1px;margin: -1px;overflow: hidden;padding: 0;position: absolute;width: 1px;}#sk-container-id-37 div.sk-estimator {font-family: monospace;background-color: #f0f8ff;border: 1px dotted black;border-radius: 0.25em;box-sizing: border-box;margin-bottom: 0.5em;}#sk-container-id-37 div.sk-estimator:hover {background-color: #d4ebff;}#sk-container-id-37 div.sk-parallel-item::after {content: \"\";width: 100%;border-bottom: 1px solid gray;flex-grow: 1;}#sk-container-id-37 div.sk-label:hover label.sk-toggleable__label {background-color: #d4ebff;}#sk-container-id-37 div.sk-serial::before {content: \"\";position: absolute;border-left: 1px solid gray;box-sizing: border-box;top: 0;bottom: 0;left: 50%;z-index: 0;}#sk-container-id-37 div.sk-serial {display: flex;flex-direction: column;align-items: center;background-color: white;padding-right: 0.2em;padding-left: 0.2em;position: relative;}#sk-container-id-37 div.sk-item {position: relative;z-index: 1;}#sk-container-id-37 div.sk-parallel {display: flex;align-items: stretch;justify-content: center;background-color: white;position: relative;}#sk-container-id-37 div.sk-item::before, #sk-container-id-37 div.sk-parallel-item::before {content: \"\";position: absolute;border-left: 1px solid gray;box-sizing: border-box;top: 0;bottom: 0;left: 50%;z-index: -1;}#sk-container-id-37 div.sk-parallel-item {display: flex;flex-direction: column;z-index: 1;position: relative;background-color: white;}#sk-container-id-37 div.sk-parallel-item:first-child::after {align-self: flex-end;width: 50%;}#sk-container-id-37 div.sk-parallel-item:last-child::after {align-self: flex-start;width: 50%;}#sk-container-id-37 div.sk-parallel-item:only-child::after {width: 0;}#sk-container-id-37 div.sk-dashed-wrapped {border: 1px dashed gray;margin: 0 0.4em 0.5em 0.4em;box-sizing: border-box;padding-bottom: 0.4em;background-color: white;}#sk-container-id-37 div.sk-label label {font-family: monospace;font-weight: bold;display: inline-block;line-height: 1.2em;}#sk-container-id-37 div.sk-label-container {text-align: center;}#sk-container-id-37 div.sk-container {/* jupyter's `normalize.less` sets `[hidden] { display: none; }` but bootstrap.min.css set `[hidden] { display: none !important; }` so we also need the `!important` here to be able to override the default hidden behavior on the sphinx rendered scikit-learn.org. See: https://github.com/scikit-learn/scikit-learn/issues/21755 */display: inline-block !important;position: relative;}#sk-container-id-37 div.sk-text-repr-fallback {display: none;}</style><div id=\"sk-container-id-37\" class=\"sk-top-container\"><div class=\"sk-text-repr-fallback\"><pre>LinearRegression()</pre><b>In a Jupyter environment, please rerun this cell to show the HTML representation or trust the notebook. <br />On GitHub, the HTML representation is unable to render, please try loading this page with nbviewer.org.</b></div><div class=\"sk-container\" hidden><div class=\"sk-item\"><div class=\"sk-estimator sk-toggleable\"><input class=\"sk-toggleable__control sk-hidden--visually\" id=\"sk-estimator-id-37\" type=\"checkbox\" checked><label for=\"sk-estimator-id-37\" class=\"sk-toggleable__label sk-toggleable__label-arrow\">LinearRegression</label><div class=\"sk-toggleable__content\"><pre>LinearRegression()</pre></div></div></div></div></div>"
      ],
      "text/plain": [
       "LinearRegression()"
      ]
     },
     "execution_count": 198,
     "metadata": {},
     "output_type": "execute_result"
    }
   ],
   "source": [
    "from sklearn.linear_model import LinearRegression\n",
    "from sklearn.model_selection import train_test_split\n",
    "\n",
    "# Separate input features and target\n",
    "X = df[['out', 'gender', 'sleepnight', 'studyweek']]\n",
    "y = df['gpa']\n",
    "\n",
    "# Split the data into training set and test set\n",
    "X_train, X_test, y_train, y_test = train_test_split(X, y, test_size=0.3, random_state=42)\n",
    "\n",
    "print(\"Training set size:\", len(X_train))\n",
    "print(\"Test set size:\", len(X_test))\n",
    "\n",
    "model = LinearRegression()\n",
    "model.fit(X_train, y_train)"
   ]
  },
  {
   "cell_type": "code",
   "execution_count": 199,
   "metadata": {},
   "outputs": [
    {
     "name": "stdout",
     "output_type": "stream",
     "text": [
      "Mean squared error:  0.021974176126192076\n"
     ]
    }
   ],
   "source": [
    "from sklearn.metrics import mean_squared_error\n",
    "\n",
    "# predictions\n",
    "y_pred = model.predict(X_test)\n",
    "\n",
    "mse = mean_squared_error(y_test, y_pred)\n",
    "print(\"Mean squared error: \", mse)"
   ]
  },
  {
   "cell_type": "markdown",
   "metadata": {},
   "source": [
    "I trained a Linear regression model to do the prediction. The accuracy is mse = 0.021974  \n",
    "\n",
    "Now I'll be training the model with only 'out' feature."
   ]
  },
  {
   "cell_type": "code",
   "execution_count": 200,
   "metadata": {},
   "outputs": [
    {
     "name": "stdout",
     "output_type": "stream",
     "text": [
      "Training set size: 38\n",
      "Test set size: 17\n"
     ]
    },
    {
     "data": {
      "text/html": [
       "<style>#sk-container-id-38 {color: black;}#sk-container-id-38 pre{padding: 0;}#sk-container-id-38 div.sk-toggleable {background-color: white;}#sk-container-id-38 label.sk-toggleable__label {cursor: pointer;display: block;width: 100%;margin-bottom: 0;padding: 0.3em;box-sizing: border-box;text-align: center;}#sk-container-id-38 label.sk-toggleable__label-arrow:before {content: \"▸\";float: left;margin-right: 0.25em;color: #696969;}#sk-container-id-38 label.sk-toggleable__label-arrow:hover:before {color: black;}#sk-container-id-38 div.sk-estimator:hover label.sk-toggleable__label-arrow:before {color: black;}#sk-container-id-38 div.sk-toggleable__content {max-height: 0;max-width: 0;overflow: hidden;text-align: left;background-color: #f0f8ff;}#sk-container-id-38 div.sk-toggleable__content pre {margin: 0.2em;color: black;border-radius: 0.25em;background-color: #f0f8ff;}#sk-container-id-38 input.sk-toggleable__control:checked~div.sk-toggleable__content {max-height: 200px;max-width: 100%;overflow: auto;}#sk-container-id-38 input.sk-toggleable__control:checked~label.sk-toggleable__label-arrow:before {content: \"▾\";}#sk-container-id-38 div.sk-estimator input.sk-toggleable__control:checked~label.sk-toggleable__label {background-color: #d4ebff;}#sk-container-id-38 div.sk-label input.sk-toggleable__control:checked~label.sk-toggleable__label {background-color: #d4ebff;}#sk-container-id-38 input.sk-hidden--visually {border: 0;clip: rect(1px 1px 1px 1px);clip: rect(1px, 1px, 1px, 1px);height: 1px;margin: -1px;overflow: hidden;padding: 0;position: absolute;width: 1px;}#sk-container-id-38 div.sk-estimator {font-family: monospace;background-color: #f0f8ff;border: 1px dotted black;border-radius: 0.25em;box-sizing: border-box;margin-bottom: 0.5em;}#sk-container-id-38 div.sk-estimator:hover {background-color: #d4ebff;}#sk-container-id-38 div.sk-parallel-item::after {content: \"\";width: 100%;border-bottom: 1px solid gray;flex-grow: 1;}#sk-container-id-38 div.sk-label:hover label.sk-toggleable__label {background-color: #d4ebff;}#sk-container-id-38 div.sk-serial::before {content: \"\";position: absolute;border-left: 1px solid gray;box-sizing: border-box;top: 0;bottom: 0;left: 50%;z-index: 0;}#sk-container-id-38 div.sk-serial {display: flex;flex-direction: column;align-items: center;background-color: white;padding-right: 0.2em;padding-left: 0.2em;position: relative;}#sk-container-id-38 div.sk-item {position: relative;z-index: 1;}#sk-container-id-38 div.sk-parallel {display: flex;align-items: stretch;justify-content: center;background-color: white;position: relative;}#sk-container-id-38 div.sk-item::before, #sk-container-id-38 div.sk-parallel-item::before {content: \"\";position: absolute;border-left: 1px solid gray;box-sizing: border-box;top: 0;bottom: 0;left: 50%;z-index: -1;}#sk-container-id-38 div.sk-parallel-item {display: flex;flex-direction: column;z-index: 1;position: relative;background-color: white;}#sk-container-id-38 div.sk-parallel-item:first-child::after {align-self: flex-end;width: 50%;}#sk-container-id-38 div.sk-parallel-item:last-child::after {align-self: flex-start;width: 50%;}#sk-container-id-38 div.sk-parallel-item:only-child::after {width: 0;}#sk-container-id-38 div.sk-dashed-wrapped {border: 1px dashed gray;margin: 0 0.4em 0.5em 0.4em;box-sizing: border-box;padding-bottom: 0.4em;background-color: white;}#sk-container-id-38 div.sk-label label {font-family: monospace;font-weight: bold;display: inline-block;line-height: 1.2em;}#sk-container-id-38 div.sk-label-container {text-align: center;}#sk-container-id-38 div.sk-container {/* jupyter's `normalize.less` sets `[hidden] { display: none; }` but bootstrap.min.css set `[hidden] { display: none !important; }` so we also need the `!important` here to be able to override the default hidden behavior on the sphinx rendered scikit-learn.org. See: https://github.com/scikit-learn/scikit-learn/issues/21755 */display: inline-block !important;position: relative;}#sk-container-id-38 div.sk-text-repr-fallback {display: none;}</style><div id=\"sk-container-id-38\" class=\"sk-top-container\"><div class=\"sk-text-repr-fallback\"><pre>LinearRegression()</pre><b>In a Jupyter environment, please rerun this cell to show the HTML representation or trust the notebook. <br />On GitHub, the HTML representation is unable to render, please try loading this page with nbviewer.org.</b></div><div class=\"sk-container\" hidden><div class=\"sk-item\"><div class=\"sk-estimator sk-toggleable\"><input class=\"sk-toggleable__control sk-hidden--visually\" id=\"sk-estimator-id-38\" type=\"checkbox\" checked><label for=\"sk-estimator-id-38\" class=\"sk-toggleable__label sk-toggleable__label-arrow\">LinearRegression</label><div class=\"sk-toggleable__content\"><pre>LinearRegression()</pre></div></div></div></div></div>"
      ],
      "text/plain": [
       "LinearRegression()"
      ]
     },
     "execution_count": 200,
     "metadata": {},
     "output_type": "execute_result"
    }
   ],
   "source": [
    "\n",
    "X = df[['out']]\n",
    "y = df['gpa']\n",
    "\n",
    "# Split the data into training set and test set\n",
    "X_train, X_test, y_train, y_test = train_test_split(X, y, test_size=0.3, random_state=42)\n",
    "\n",
    "print(\"Training set size:\", len(X_train))\n",
    "print(\"Test set size:\", len(X_test))\n",
    "\n",
    "model = LinearRegression()\n",
    "model.fit(X_train, y_train)"
   ]
  },
  {
   "cell_type": "code",
   "execution_count": 201,
   "metadata": {},
   "outputs": [
    {
     "name": "stdout",
     "output_type": "stream",
     "text": [
      "Mean squared error:  0.02041822296962972\n",
      "      Actual  Predicted\n",
      "31  0.451977   0.347523\n",
      "5   0.141243   0.416615\n",
      "32  0.259887   0.347523\n",
      "13  0.423729   0.416615\n",
      "19  0.381356   0.364796\n",
      "49  0.451977   0.382069\n",
      "41  0.610169   0.364796\n",
      "26  0.621469   0.416615\n",
      "43  0.514124   0.399342\n",
      "12  0.579096   0.382069\n",
      "52  0.254237   0.382069\n",
      "3   0.395480   0.451162\n",
      "33  0.451977   0.364796\n",
      "34  0.451977   0.347523\n",
      "8   0.298305   0.382069\n",
      "17  0.508475   0.347523\n",
      "6   0.197740   0.347523\n"
     ]
    }
   ],
   "source": [
    "y_pred = model.predict(X_test)\n",
    "\n",
    "mse = mean_squared_error(y_test, y_pred)\n",
    "print(\"Mean squared error: \", mse)\n",
    "\n",
    "\n",
    "df_results = pd.DataFrame({'Actual': y_test, 'Predicted': y_pred})\n",
    "print(df_results)"
   ]
  },
  {
   "cell_type": "markdown",
   "metadata": {},
   "source": [
    "The mse = 0.0204. The prediction accuracy did improved a little, but don't think it's due to feature selection."
   ]
  }
 ],
 "metadata": {
  "kernelspec": {
   "display_name": "env",
   "language": "python",
   "name": "python3"
  },
  "language_info": {
   "codemirror_mode": {
    "name": "ipython",
    "version": 3
   },
   "file_extension": ".py",
   "mimetype": "text/x-python",
   "name": "python",
   "nbconvert_exporter": "python",
   "pygments_lexer": "ipython3",
   "version": "3.10.7"
  }
 },
 "nbformat": 4,
 "nbformat_minor": 2
}
